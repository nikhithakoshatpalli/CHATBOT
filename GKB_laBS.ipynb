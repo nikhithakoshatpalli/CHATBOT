{
  "cells": [
    {
      "cell_type": "markdown",
      "metadata": {
        "id": "view-in-github",
        "colab_type": "text"
      },
      "source": [
        "<a href=\"https://colab.research.google.com/github/nikhithakoshatpalli/CHATBOT/blob/main/GKB_laBS.ipynb\" target=\"_parent\"><img src=\"https://colab.research.google.com/assets/colab-badge.svg\" alt=\"Open In Colab\"/></a>"
      ]
    },
    {
      "cell_type": "code",
      "execution_count": null,
      "metadata": {
        "colab": {
          "base_uri": "https://localhost:8080/"
        },
        "id": "4UOl2ZYz8KEd",
        "outputId": "223ccca7-7faa-447e-aa84-488db8f40cae"
      },
      "outputs": [
        {
          "name": "stdout",
          "output_type": "stream",
          "text": [
            "🎓 Welcome to the College Help Chatbot!\n",
            "Type your question or type 'help' to see options.\n",
            "\n",
            "You: What is the last date for fee payment\n",
            "\n",
            "📅 The last date for fee payment is September 1.\n",
            "You: Show faculty contacts for Computer Science\n",
            "\n",
            "👨‍🏫 Faculty Contacts - Computer Science:\n",
            "Dr. Alice Smith - 6283950756\n",
            "Prof. John Doe - 7864537673\n",
            "You: What are the elective courses in semester 4\n",
            "\n",
            "📚 Elective Courses in Semester 4:\n",
            "- Data Science & Analytics\n",
            "- Cloud Computing\n",
            "- Human-Computer Interaction\n",
            "- Digital Marketing\n",
            "You: What companies are coming for placements\n",
            "\n",
            "🏢 Companies Visiting for Placements:\n",
            "- Google\n",
            "- Amazon\n",
            "- Infosys\n",
            "- TCS\n",
            "You: Type 'exit' to quit\n",
            "❓ Sorry, I didn't understand that. Type 'help' to see what you can ask.\n",
            "You: exit\n",
            "👋 Goodbye! Have a great day!\n"
          ]
        }
      ],
      "source": [
        "def handle_query(user_input: str):\n",
        "    user_input = user_input.lower()\n",
        "\n",
        "    match True:\n",
        "        case _ if \"fee payment\" in user_input or \"last date\" in user_input:\n",
        "            print(\"\\n📅 The last date for fee payment is September 1.\")\n",
        "\n",
        "        case _ if \"faculty contacts\" in user_input and \"computer science\" in user_input:\n",
        "            print(\"\\n👨‍🏫 Faculty Contacts - Computer Science:\")\n",
        "            print(\"Dr. Alice Smith - 6283950756\")\n",
        "            print(\"Prof. John Doe - 7864537673\")\n",
        "\n",
        "        case _ if \"elective courses\" in user_input and \"semester 4\" in user_input:\n",
        "            print(\"\\n📚 Elective Courses in Semester 4:\")\n",
        "            print(\"- Data Science & Analytics\")\n",
        "            print(\"- Cloud Computing\")\n",
        "            print(\"- Human-Computer Interaction\")\n",
        "            print(\"- Digital Marketing\")\n",
        "\n",
        "        case _ if \"placements\" in user_input and \"companies\" in user_input:\n",
        "            print(\"\\n🏢 Companies Visiting for Placements:\")\n",
        "            print(\"- Google\")\n",
        "            print(\"- Amazon\")\n",
        "            print(\"- Infosys\")\n",
        "            print(\"- TCS\")\n",
        "\n",
        "        case _ if \"help\" in user_input or \"options\" in user_input:\n",
        "            show_help_menu()\n",
        "\n",
        "        case _ if user_input in (\"exit\", \"quit\"):\n",
        "            print(\"👋 Goodbye! Have a great day!\")\n",
        "            return False\n",
        "\n",
        "        case _:\n",
        "            print(\"❓ Sorry, I didn't understand that. Type 'help' to see what you can ask.\")\n",
        "\n",
        "    return True\n",
        "\n",
        "\n",
        "def show_help_menu():\n",
        "    print(\"\\n💡 You can ask things like:\")\n",
        "    print(\"- What is the last date for fee payment?\")\n",
        "    print(\"- Show faculty contacts for Computer Science\")\n",
        "    print(\"- What are the elective courses in semester 4?\")\n",
        "    print(\"- What companies are coming for placements?\")\n",
        "    print(\"- Type 'exit' to quit.\")\n",
        "\n",
        "\n",
        "def main():\n",
        "    print(\"🎓 Welcome to the College Help Chatbot!\")\n",
        "    print(\"Type your question or type 'help' to see options.\\n\")\n",
        "\n",
        "    running = True\n",
        "    while running:\n",
        "        user_input = input(\"You: \")\n",
        "        running = handle_query(user_input)\n",
        "\n",
        "\n",
        "if __name__ == \"__main__\":\n",
        "    main()"
      ]
    }
  ],
  "metadata": {
    "colab": {
      "provenance": [],
      "authorship_tag": "ABX9TyMYOrvqLxH5f7sLfRXaTSy0",
      "include_colab_link": true
    },
    "kernelspec": {
      "display_name": "Python 3",
      "name": "python3"
    },
    "language_info": {
      "name": "python"
    }
  },
  "nbformat": 4,
  "nbformat_minor": 0
}